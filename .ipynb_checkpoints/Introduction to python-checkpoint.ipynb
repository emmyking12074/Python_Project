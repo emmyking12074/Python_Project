{
 "cells": [
  {
   "cell_type": "markdown",
   "id": "e2397d3a-f289-45c3-b2ca-3bdb47064d19",
   "metadata": {},
   "source": [
    "# Introduction\n",
    "This is our class note, and we will be learning Data Science with Python!!!!"
   ]
  },
  {
   "cell_type": "code",
   "execution_count": 8,
   "id": "d22a6521-cd08-45bc-a8d9-f415af27865c",
   "metadata": {},
   "outputs": [
    {
     "name": "stdout",
     "output_type": "stream",
     "text": [
      "Hello World\n"
     ]
    }
   ],
   "source": [
    "print('Hello World')"
   ]
  },
  {
   "cell_type": "code",
   "execution_count": 3,
   "id": "c25a8c82-9007-454e-9d7f-4b01511240bc",
   "metadata": {},
   "outputs": [],
   "source": [
    "# This is a comment and python will ignore this line \n",
    "# this is also called a single line comment "
   ]
  },
  {
   "cell_type": "code",
   "execution_count": 7,
   "id": "96c02af1-6f12-4486-af88-06ef978d7f7c",
   "metadata": {},
   "outputs": [
    {
     "data": {
      "text/plain": [
       "' This is a multi-line comment \\n   this type of comment allows us to write on multiple lines.\\n'"
      ]
     },
     "execution_count": 7,
     "metadata": {},
     "output_type": "execute_result"
    }
   ],
   "source": [
    "\"\"\" This is a multi-line comment \n",
    "   this type of comment allows us to write on multiple lines.\n",
    "\"\"\""
   ]
  },
  {
   "cell_type": "code",
   "execution_count": 12,
   "id": "53ee8345-c7c7-487c-ba47-bd77e4e04f58",
   "metadata": {},
   "outputs": [],
   "source": [
    "# Varibles: They are storage or container in Python.\n",
    "score = 10"
   ]
  },
  {
   "cell_type": "code",
   "execution_count": 13,
   "id": "22d6ab7d-353b-48a1-80ed-2f8232126782",
   "metadata": {},
   "outputs": [
    {
     "data": {
      "text/plain": [
       "10"
      ]
     },
     "execution_count": 13,
     "metadata": {},
     "output_type": "execute_result"
    }
   ],
   "source": [
    "score"
   ]
  },
  {
   "cell_type": "code",
   "execution_count": 14,
   "id": "ff70bb39-e4c7-4b48-8a7c-5a4a92098404",
   "metadata": {},
   "outputs": [
    {
     "data": {
      "text/plain": [
       "100"
      ]
     },
     "execution_count": 14,
     "metadata": {},
     "output_type": "execute_result"
    }
   ],
   "source": [
    "score * score"
   ]
  },
  {
   "cell_type": "markdown",
   "id": "b928e879-e422-4de7-8b12-26654e1576e4",
   "metadata": {},
   "source": [
    "### Data types in Python\n",
    "- String\n",
    "- int - Integers\n",
    "- Float - Decimal\n",
    "- Boolean - True/False"
   ]
  },
  {
   "cell_type": "code",
   "execution_count": 15,
   "id": "02c3a027-a442-4073-8064-4d7cdbcb54b7",
   "metadata": {},
   "outputs": [],
   "source": [
    "age = 25\n",
    "height = 5.11\n",
    "name = \"Alice\"\n",
    "is_student = True"
   ]
  },
  {
   "cell_type": "code",
   "execution_count": 17,
   "id": "561c19bb-45a6-4bf1-8914-1bad8ac72ebc",
   "metadata": {},
   "outputs": [
    {
     "data": {
      "text/plain": [
       "int"
      ]
     },
     "execution_count": 17,
     "metadata": {},
     "output_type": "execute_result"
    }
   ],
   "source": [
    "type(age) # type tells us the data type "
   ]
  },
  {
   "cell_type": "code",
   "execution_count": 18,
   "id": "fb0b053d-0c1c-4d35-b7c8-293c54394ab5",
   "metadata": {},
   "outputs": [
    {
     "name": "stdout",
     "output_type": "stream",
     "text": [
      "<class 'int'>\n",
      "<class 'float'>\n",
      "<class 'str'>\n",
      "<class 'bool'>\n"
     ]
    }
   ],
   "source": [
    "print(type(age))\n",
    "print(type(height))\n",
    "print(type(name))\n",
    "print(type(is_student))"
   ]
  },
  {
   "cell_type": "markdown",
   "id": "be033327-d543-42a0-8aba-7120ac6b6fe9",
   "metadata": {},
   "source": [
    "### Operators and Expression\n",
    "Operators and special symbols that carry out arithmetic \n",
    "or logical computation\n"
   ]
  },
  {
   "cell_type": "code",
   "execution_count": 19,
   "id": "179dac9f-4db4-4fcf-8fab-c14b2d42fd74",
   "metadata": {},
   "outputs": [
    {
     "data": {
      "text/plain": [
       "6"
      ]
     },
     "execution_count": 19,
     "metadata": {},
     "output_type": "execute_result"
    }
   ],
   "source": [
    "# adding two operends \n",
    "2 + 4"
   ]
  },
  {
   "cell_type": "code",
   "execution_count": 20,
   "id": "91fd0044-b1d9-410c-999f-bf6ee7aa108f",
   "metadata": {},
   "outputs": [
    {
     "data": {
      "text/plain": [
       "2"
      ]
     },
     "execution_count": 20,
     "metadata": {},
     "output_type": "execute_result"
    }
   ],
   "source": [
    "# subtrarion \n",
    "6 - 4"
   ]
  },
  {
   "cell_type": "code",
   "execution_count": 21,
   "id": "9f2604f1-4d6f-4c82-be71-1543d13e8b97",
   "metadata": {},
   "outputs": [
    {
     "data": {
      "text/plain": [
       "8"
      ]
     },
     "execution_count": 21,
     "metadata": {},
     "output_type": "execute_result"
    }
   ],
   "source": [
    "# multiplication of two operands \n",
    "2 * 4"
   ]
  },
  {
   "cell_type": "code",
   "execution_count": 22,
   "id": "8418e652-4587-46b3-8530-edb8f31de0b9",
   "metadata": {},
   "outputs": [
    {
     "data": {
      "text/plain": [
       "2.0"
      ]
     },
     "execution_count": 22,
     "metadata": {},
     "output_type": "execute_result"
    }
   ],
   "source": [
    "# divides left operands by right operands \n",
    "# when you divide a whole number by another whole number the result is a floating value \n",
    "8 / 4"
   ]
  },
  {
   "cell_type": "code",
   "execution_count": 23,
   "id": "9e6062a2-0b17-46fe-9bc5-52b7fe146751",
   "metadata": {},
   "outputs": [
    {
     "data": {
      "text/plain": [
       "2"
      ]
     },
     "execution_count": 23,
     "metadata": {},
     "output_type": "execute_result"
    }
   ],
   "source": [
    "# Modulus: returns the remainder when you divide the left operand by the right operand \n",
    "8 % 3"
   ]
  },
  {
   "cell_type": "code",
   "execution_count": 29,
   "id": "a92e12f6-958e-441e-8132-a50226924a6e",
   "metadata": {},
   "outputs": [
    {
     "data": {
      "text/plain": [
       "1"
      ]
     },
     "execution_count": 29,
     "metadata": {},
     "output_type": "execute_result"
    }
   ],
   "source": [
    "10 % 3"
   ]
  },
  {
   "cell_type": "code",
   "execution_count": 24,
   "id": "01762525-276a-4215-a669-779f3f66b6cf",
   "metadata": {},
   "outputs": [
    {
     "data": {
      "text/plain": [
       "8"
      ]
     },
     "execution_count": 24,
     "metadata": {},
     "output_type": "execute_result"
    }
   ],
   "source": [
    "# Exponent - left hand operand raise to the power of the right hand operand \n",
    "2 ** 3"
   ]
  },
  {
   "cell_type": "code",
   "execution_count": 25,
   "id": "622e459c-47a9-43b0-962c-792813a5f1f7",
   "metadata": {},
   "outputs": [
    {
     "data": {
      "text/plain": [
       "8"
      ]
     },
     "execution_count": 25,
     "metadata": {},
     "output_type": "execute_result"
    }
   ],
   "source": [
    "pow(2, 3)"
   ]
  },
  {
   "cell_type": "code",
   "execution_count": 27,
   "id": "7555e9a3-ecab-4014-8032-16a3b72efb4a",
   "metadata": {},
   "outputs": [
    {
     "data": {
      "text/plain": [
       "4"
      ]
     },
     "execution_count": 27,
     "metadata": {},
     "output_type": "execute_result"
    }
   ],
   "source": [
    "# floor division- Division that results into the whole number adjusted to the number line\n",
    "9//2"
   ]
  },
  {
   "cell_type": "code",
   "execution_count": 28,
   "id": "d9463dc8-ce63-4d51-a5fc-be19219e0ec0",
   "metadata": {},
   "outputs": [
    {
     "data": {
      "text/plain": [
       "3"
      ]
     },
     "execution_count": 28,
     "metadata": {},
     "output_type": "execute_result"
    }
   ],
   "source": [
    "10 // 3"
   ]
  },
  {
   "cell_type": "code",
   "execution_count": 30,
   "id": "60628e61-b764-47ef-a9b4-417c29ab8018",
   "metadata": {},
   "outputs": [],
   "source": [
    "import math"
   ]
  },
  {
   "cell_type": "code",
   "execution_count": 31,
   "id": "1f66aaa8-0c8e-43b6-9f99-35df12aed045",
   "metadata": {},
   "outputs": [
    {
     "data": {
      "text/plain": [
       "4"
      ]
     },
     "execution_count": 31,
     "metadata": {},
     "output_type": "execute_result"
    }
   ],
   "source": [
    "math.floor(9//2)"
   ]
  },
  {
   "cell_type": "code",
   "execution_count": 33,
   "id": "b0da7d03-7e6e-4d6b-a9b4-fdef6bc65ebb",
   "metadata": {},
   "outputs": [],
   "source": [
    "## Assignment operator: is used to store whatever is on the left-hand side into the right-hand \n",
    "a = 10\n",
    "b = 40"
   ]
  },
  {
   "cell_type": "code",
   "execution_count": 34,
   "id": "7ffb2de9-b7ae-4794-9476-a0526b2e3549",
   "metadata": {},
   "outputs": [
    {
     "data": {
      "text/plain": [
       "10"
      ]
     },
     "execution_count": 34,
     "metadata": {},
     "output_type": "execute_result"
    }
   ],
   "source": [
    "a"
   ]
  },
  {
   "cell_type": "code",
   "execution_count": 35,
   "id": "f82d90df-d6ad-42c3-8a54-8478e6dbffc3",
   "metadata": {},
   "outputs": [
    {
     "data": {
      "text/plain": [
       "40"
      ]
     },
     "execution_count": 35,
     "metadata": {},
     "output_type": "execute_result"
    }
   ],
   "source": [
    "b"
   ]
  },
  {
   "cell_type": "code",
   "execution_count": 36,
   "id": "3e809984-69b4-442b-abf3-f66001cc2bb9",
   "metadata": {},
   "outputs": [],
   "source": [
    "a = a + b"
   ]
  },
  {
   "cell_type": "code",
   "execution_count": 37,
   "id": "8334621c-5651-4c1f-ab50-1b9befffd97b",
   "metadata": {},
   "outputs": [
    {
     "data": {
      "text/plain": [
       "50"
      ]
     },
     "execution_count": 37,
     "metadata": {},
     "output_type": "execute_result"
    }
   ],
   "source": [
    "a"
   ]
  },
  {
   "cell_type": "markdown",
   "id": "eb864ecf-d343-4fc8-a8df-59d4d3537079",
   "metadata": {},
   "source": [
    "### Comparison operators "
   ]
  },
  {
   "cell_type": "code",
   "execution_count": 38,
   "id": "ea3f9f79-8542-43dc-a9a1-dcbfedb471a9",
   "metadata": {},
   "outputs": [],
   "source": [
    "# The double equal sign checks if both operands are equal \n",
    "name = \"Toke\"\n",
    "person = \"Bob\""
   ]
  },
  {
   "cell_type": "code",
   "execution_count": 39,
   "id": "f4867209-c10f-4752-93e4-a31ffaf8d03f",
   "metadata": {},
   "outputs": [
    {
     "data": {
      "text/plain": [
       "False"
      ]
     },
     "execution_count": 39,
     "metadata": {},
     "output_type": "execute_result"
    }
   ],
   "source": [
    "name == person"
   ]
  },
  {
   "cell_type": "code",
   "execution_count": 40,
   "id": "f0a9899f-881d-4a82-9a83-cae62758504b",
   "metadata": {},
   "outputs": [
    {
     "data": {
      "text/plain": [
       "True"
      ]
     },
     "execution_count": 40,
     "metadata": {},
     "output_type": "execute_result"
    }
   ],
   "source": [
    "# Not equal to - True if operands are not equal\n",
    "name != person"
   ]
  },
  {
   "cell_type": "code",
   "execution_count": 41,
   "id": "9da65f5a-60de-45c6-b304-cfcaccb307e0",
   "metadata": {},
   "outputs": [],
   "source": [
    "# the greater than sign\n",
    "a = 10\n",
    "b = 40"
   ]
  },
  {
   "cell_type": "code",
   "execution_count": 42,
   "id": "4369d232-81ef-4607-86ca-22b95389999f",
   "metadata": {},
   "outputs": [
    {
     "data": {
      "text/plain": [
       "False"
      ]
     },
     "execution_count": 42,
     "metadata": {},
     "output_type": "execute_result"
    }
   ],
   "source": [
    "a > b"
   ]
  },
  {
   "cell_type": "code",
   "execution_count": 43,
   "id": "7248cf15-b4d5-4da2-ab18-ef00aab09db5",
   "metadata": {},
   "outputs": [
    {
     "data": {
      "text/plain": [
       "True"
      ]
     },
     "execution_count": 43,
     "metadata": {},
     "output_type": "execute_result"
    }
   ],
   "source": [
    "a < b"
   ]
  },
  {
   "cell_type": "code",
   "execution_count": 44,
   "id": "75c180f1-7f22-42d9-a830-cf98037c94fa",
   "metadata": {},
   "outputs": [
    {
     "data": {
      "text/plain": [
       "False"
      ]
     },
     "execution_count": 44,
     "metadata": {},
     "output_type": "execute_result"
    }
   ],
   "source": [
    "a >= b"
   ]
  },
  {
   "cell_type": "code",
   "execution_count": 45,
   "id": "44b7695a-0810-419a-9a7d-d5ed8606e602",
   "metadata": {},
   "outputs": [
    {
     "data": {
      "text/plain": [
       "True"
      ]
     },
     "execution_count": 45,
     "metadata": {},
     "output_type": "execute_result"
    }
   ],
   "source": [
    "a <= b"
   ]
  },
  {
   "cell_type": "code",
   "execution_count": 46,
   "id": "42418952-4570-4e8d-b95e-f384551f6fa6",
   "metadata": {},
   "outputs": [
    {
     "data": {
      "text/plain": [
       "10"
      ]
     },
     "execution_count": 46,
     "metadata": {},
     "output_type": "execute_result"
    }
   ],
   "source": [
    "a"
   ]
  },
  {
   "cell_type": "markdown",
   "id": "b044c2b0-6b23-42f3-9de4-1c420b71138f",
   "metadata": {},
   "source": [
    "### CONTROL FLOW\n",
    "Conditional statements(if, elif, else), looping with for and while loops, break and continue statement are common \n",
    "syntax of controlling the flow of program logic in python. your code execute from top to bottom. it is your job to control\n",
    "the flow of your code"
   ]
  },
  {
   "cell_type": "code",
   "execution_count": 63,
   "id": "2337c768-0d90-4949-806d-4c8bb7df4059",
   "metadata": {},
   "outputs": [],
   "source": [
    "age = 100\n",
    "\n",
    "# if age >= 15:\n",
    "#     print(\"You are an Adult, prepare for marriage\")\n",
    "\n",
    "# else:\n",
    "#     print(\"you are a minor, focus on your studies\")"
   ]
  },
  {
   "cell_type": "code",
   "execution_count": 64,
   "id": "8c752cb1-8f67-4819-84d2-5cc13f0a3a9b",
   "metadata": {},
   "outputs": [
    {
     "name": "stdout",
     "output_type": "stream",
     "text": [
      "what is your age?\n"
     ]
    }
   ],
   "source": [
    "# using multiple ifs\n",
    "if age <= 10:\n",
    "    print(\"you are too Young!\")\n",
    "\n",
    "elif age >= 13 and age <= 18:\n",
    "    print(\"You are a teenager\")\n",
    "\n",
    "elif age >= 18 and age <=90:\n",
    "    print (\"You are old enough\")\n",
    "\n",
    "else:\n",
    "    print(\"what is your age?\")"
   ]
  },
  {
   "cell_type": "code",
   "execution_count": 66,
   "id": "dd30f480-fb24-4a67-97e0-5374f3e1536f",
   "metadata": {},
   "outputs": [
    {
     "name": "stdin",
     "output_type": "stream",
     "text": [
      "what is your name?:  18.5\n"
     ]
    }
   ],
   "source": [
    "# Using the input statement to get response from the user \n",
    "age = float(input(\"what is your name?: \"))"
   ]
  },
  {
   "cell_type": "code",
   "execution_count": null,
   "id": "4f7b2bfa-ed4f-42ea-9de8-19abbf004692",
   "metadata": {},
   "outputs": [],
   "source": [
    "# using multiple ifs\n",
    "if age <= 10:\n",
    "    print(\"you are too Young!\")\n",
    "\n",
    "elif age >= 13 and age <= 18:\n",
    "    print(\"You are a teenager\")\n",
    "\n",
    "elif age >= 18 and age <=90:\n",
    "    print (\"You are old enough\")\n",
    "\n",
    "else:\n",
    "    print(\"what is your age?\")"
   ]
  },
  {
   "cell_type": "markdown",
   "id": "5745a770-4de1-4c97-aa93-e66ec323b205",
   "metadata": {},
   "source": [
    "### PYTHON BUILT-IN FUNCTIONS \n",
    "Python built-in function are are functions built into python as core programme methods/functions "
   ]
  },
  {
   "cell_type": "code",
   "execution_count": 69,
   "id": "ba7bd2ec-a701-4646-b437-5efa953b604d",
   "metadata": {},
   "outputs": [
    {
     "name": "stdout",
     "output_type": "stream",
     "text": [
      "Tpepper lost her phone yesterday\n"
     ]
    }
   ],
   "source": [
    "# The Print statement: this is how python returns output \n",
    "print(\"Tpepper lost her phone yesterday\")"
   ]
  },
  {
   "cell_type": "code",
   "execution_count": 70,
   "id": "ee0ad3aa-42f2-42b9-8d3d-0eb7fa1e2454",
   "metadata": {},
   "outputs": [],
   "source": [
    "# int: This function returns the integer version and value passed\n",
    "value = \"20\""
   ]
  },
  {
   "cell_type": "code",
   "execution_count": 71,
   "id": "a5cf052b-c582-4947-8754-5a4225f66aad",
   "metadata": {},
   "outputs": [],
   "source": [
    "value = int(value)"
   ]
  },
  {
   "cell_type": "code",
   "execution_count": 72,
   "id": "a5f526e9-237b-4213-b0ca-4b91d8c686b1",
   "metadata": {},
   "outputs": [
    {
     "data": {
      "text/plain": [
       "20"
      ]
     },
     "execution_count": 72,
     "metadata": {},
     "output_type": "execute_result"
    }
   ],
   "source": [
    "value"
   ]
  },
  {
   "cell_type": "code",
   "execution_count": 73,
   "id": "2579dffd-3aff-4a69-a421-6ad15de96c0f",
   "metadata": {},
   "outputs": [],
   "source": [
    "# Float: This function returns the floating version of any value passed\n",
    "number = \"30.5\""
   ]
  },
  {
   "cell_type": "code",
   "execution_count": 74,
   "id": "389267e0-4224-40c4-9e4f-5a054bffd43e",
   "metadata": {},
   "outputs": [
    {
     "data": {
      "text/plain": [
       "'30.5'"
      ]
     },
     "execution_count": 74,
     "metadata": {},
     "output_type": "execute_result"
    }
   ],
   "source": [
    "number"
   ]
  },
  {
   "cell_type": "code",
   "execution_count": 75,
   "id": "405dc2ba-1800-4e8c-9cf3-2bc4e11b0226",
   "metadata": {},
   "outputs": [],
   "source": [
    "number = float(number)"
   ]
  },
  {
   "cell_type": "code",
   "execution_count": 76,
   "id": "8cc4e28e-bf21-4eb1-8567-eab8de48626c",
   "metadata": {},
   "outputs": [
    {
     "data": {
      "text/plain": [
       "30.5"
      ]
     },
     "execution_count": 76,
     "metadata": {},
     "output_type": "execute_result"
    }
   ],
   "source": [
    "number"
   ]
  },
  {
   "cell_type": "code",
   "execution_count": 77,
   "id": "f49a57af-cc07-4bc4-8db0-e26436a93c76",
   "metadata": {},
   "outputs": [],
   "source": [
    "# String: This function returns the string version of the passed to it \n",
    "string = 50"
   ]
  },
  {
   "cell_type": "code",
   "execution_count": 78,
   "id": "49f6e081-3357-4005-a86a-f51eae9306c4",
   "metadata": {},
   "outputs": [
    {
     "data": {
      "text/plain": [
       "'50'"
      ]
     },
     "execution_count": 78,
     "metadata": {},
     "output_type": "execute_result"
    }
   ],
   "source": [
    "str(string)"
   ]
  },
  {
   "cell_type": "code",
   "execution_count": 80,
   "id": "604e353b-7eeb-4e15-9228-4b5232e70bdf",
   "metadata": {},
   "outputs": [],
   "source": [
    "string =(\"Mr Pelu\")"
   ]
  },
  {
   "cell_type": "code",
   "execution_count": 81,
   "id": "ee49e396-76e7-4b8d-9e67-fadb534d2caf",
   "metadata": {},
   "outputs": [],
   "source": [
    "string = bool(string)"
   ]
  },
  {
   "cell_type": "code",
   "execution_count": 82,
   "id": "1c19ef6c-3d16-496c-ab3b-36486faebd4f",
   "metadata": {},
   "outputs": [
    {
     "data": {
      "text/plain": [
       "True"
      ]
     },
     "execution_count": 82,
     "metadata": {},
     "output_type": "execute_result"
    }
   ],
   "source": [
    "string"
   ]
  },
  {
   "cell_type": "code",
   "execution_count": 83,
   "id": "1e1de374-9146-455f-b77d-ee9ba441244f",
   "metadata": {},
   "outputs": [],
   "source": [
    "# The abs (absolute) function returns the positive version of the value passed to it \n",
    "value = -100"
   ]
  },
  {
   "cell_type": "code",
   "execution_count": 84,
   "id": "16fccd89-f406-45e9-9f1b-0d5636a006b8",
   "metadata": {},
   "outputs": [
    {
     "data": {
      "text/plain": [
       "100"
      ]
     },
     "execution_count": 84,
     "metadata": {},
     "output_type": "execute_result"
    }
   ],
   "source": [
    "abs(value)"
   ]
  },
  {
   "cell_type": "code",
   "execution_count": 85,
   "id": "e295e588-b444-4331-8a6a-7b533c45be16",
   "metadata": {},
   "outputs": [],
   "source": [
    "# The max function returns the biggest value from a list of value"
   ]
  },
  {
   "cell_type": "code",
   "execution_count": 86,
   "id": "e6933284-1815-43a0-b218-b7a1cfc0051f",
   "metadata": {},
   "outputs": [],
   "source": [
    "numbers = [2, 4, 6, 7, 10, 20]"
   ]
  },
  {
   "cell_type": "code",
   "execution_count": 87,
   "id": "9b0d14ec-ce58-4f22-a51b-a68b1d827c3d",
   "metadata": {},
   "outputs": [
    {
     "data": {
      "text/plain": [
       "20"
      ]
     },
     "execution_count": 87,
     "metadata": {},
     "output_type": "execute_result"
    }
   ],
   "source": [
    "max (numbers)"
   ]
  },
  {
   "cell_type": "code",
   "execution_count": 88,
   "id": "e65137ec-a5f0-4d31-b4c2-e0eb07853aad",
   "metadata": {},
   "outputs": [],
   "source": [
    "# min funtion returns the smallest value from a list of values"
   ]
  },
  {
   "cell_type": "code",
   "execution_count": 89,
   "id": "f7511b49-e6c7-4c9a-9e24-bee8f9af56fe",
   "metadata": {},
   "outputs": [
    {
     "data": {
      "text/plain": [
       "2"
      ]
     },
     "execution_count": 89,
     "metadata": {},
     "output_type": "execute_result"
    }
   ],
   "source": [
    "min(numbers)"
   ]
  },
  {
   "cell_type": "code",
   "execution_count": 91,
   "id": "8e37a657-9675-4575-bd8d-0b78b54e95cb",
   "metadata": {},
   "outputs": [
    {
     "data": {
      "text/plain": [
       "[0, 1, 2, 3, 4, 5, 6, 7, 8, 9]"
      ]
     },
     "execution_count": 91,
     "metadata": {},
     "output_type": "execute_result"
    }
   ],
   "source": [
    "# The range function returns the range of numbers between two integer\n",
    "list (range (10))"
   ]
  },
  {
   "cell_type": "markdown",
   "id": "76720f8f-df6f-43ad-b40c-997e2ad0f413",
   "metadata": {},
   "source": [
    "### FOR LOOPS\n",
    "For Loops is used to iterate throgh a sequence of values "
   ]
  },
  {
   "cell_type": "code",
   "execution_count": 92,
   "id": "d360d499-0423-498b-89bd-f67488c2bed1",
   "metadata": {},
   "outputs": [
    {
     "name": "stdout",
     "output_type": "stream",
     "text": [
      "0\n",
      "1\n",
      "2\n",
      "3\n",
      "4\n"
     ]
    }
   ],
   "source": [
    "for city in range(5):\n",
    "    print(city)"
   ]
  },
  {
   "cell_type": "code",
   "execution_count": 93,
   "id": "4b65deec-0a0d-44ac-b0ee-d3355fb7ff92",
   "metadata": {},
   "outputs": [
    {
     "name": "stdout",
     "output_type": "stream",
     "text": [
      "0\n"
     ]
    }
   ],
   "source": [
    "for city in range(5):\n",
    "    print(city)\n",
    "    break"
   ]
  },
  {
   "cell_type": "code",
   "execution_count": 100,
   "id": "fcb6b47e-5fbd-4227-8cb2-114d68d54d46",
   "metadata": {},
   "outputs": [
    {
     "name": "stdout",
     "output_type": "stream",
     "text": [
      "0\n",
      "1\n",
      "2\n",
      "3\n"
     ]
    }
   ],
   "source": [
    "for city in range(5):\n",
    "    if city > 3:\n",
    "        break\n",
    "\n",
    "    print(city)\n",
    "        "
   ]
  },
  {
   "cell_type": "code",
   "execution_count": 101,
   "id": "1bd29042-8748-4715-baa3-7b4fb53d5a88",
   "metadata": {},
   "outputs": [
    {
     "name": "stdout",
     "output_type": "stream",
     "text": [
      "0\n",
      "1\n",
      "2\n",
      "3\n",
      "4\n",
      "5\n",
      "6\n",
      "7\n",
      "8\n",
      "9\n",
      "10\n"
     ]
    }
   ],
   "source": [
    "for books in range (20):\n",
    "    if books > 10:\n",
    "        break\n",
    "    print(books)"
   ]
  },
  {
   "cell_type": "code",
   "execution_count": 105,
   "id": "c7ad3d6c-2eeb-48d6-b0e9-44e3bc74c471",
   "metadata": {},
   "outputs": [
    {
     "name": "stdout",
     "output_type": "stream",
     "text": [
      "0\n",
      "1\n",
      "2\n",
      "4\n",
      "5\n",
      "6\n",
      "7\n",
      "8\n",
      "9\n",
      "11\n",
      "12\n",
      "13\n",
      "14\n",
      "16\n",
      "17\n",
      "18\n",
      "19\n"
     ]
    }
   ],
   "source": [
    "for books in range (20):\n",
    "    if books in[3, 10, 15]:\n",
    "        continue\n",
    "    print(books)"
   ]
  },
  {
   "cell_type": "code",
   "execution_count": null,
   "id": "75e24940-f912-429e-aa67-0b9fe4e7ec03",
   "metadata": {},
   "outputs": [],
   "source": []
  },
  {
   "cell_type": "code",
   "execution_count": null,
   "id": "91bb765d-7c80-4d3b-9592-f75d9e95f7fb",
   "metadata": {},
   "outputs": [],
   "source": []
  }
 ],
 "metadata": {
  "kernelspec": {
   "display_name": "Python 3 (ipykernel)",
   "language": "python",
   "name": "python3"
  },
  "language_info": {
   "codemirror_mode": {
    "name": "ipython",
    "version": 3
   },
   "file_extension": ".py",
   "mimetype": "text/x-python",
   "name": "python",
   "nbconvert_exporter": "python",
   "pygments_lexer": "ipython3",
   "version": "3.12.4"
  }
 },
 "nbformat": 4,
 "nbformat_minor": 5
}
