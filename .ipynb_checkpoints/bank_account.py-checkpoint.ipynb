{
 "cells": [
  {
   "cell_type": "markdown",
   "id": "5d3b6782-1299-4b0c-93e4-61f8244db8ed",
   "metadata": {},
   "source": [
    "### Creating a Bank Account.\n",
    "\n",
    "Create a class called \"Account\" that has the following attributes:\r\n",
    "\r\n",
    "account_number (string)\r\n",
    "account_balance (float)\r\n",
    "account_holder (string)\r\n",
    "The class should have the following metho* ds:\r\n",
    "\r\n",
    "deposit(amount: float) - This method should add the amount passed as an argument to the account b\n",
    "  a* lance.\r\n",
    "withdraw(amount: float) - This method should subtract the amount passed as an argument from the account balance, but only if the account balance is greater than the amount being wi\n",
    "  t* hdrawn.\r\n",
    "check_balance() - This method should return the current account balance.\r\n",
    "\r\n",
    "Ins* tructions\r\n",
    "\r\n",
    "Create a new file called \"ban\n",
    "  k* _account.py\"\r\n",
    "Define the Account class and its attributes as sp\n",
    "  e* cified above.\r\n",
    "Define the deposit() method. It should take in one argument, the amount to be deposited, and add it to the a\n",
    "  c* count balance.\r\n",
    "Define the withdraw() method. It should take in one argument, the amount to be withdrawn, and subtract it from the account balance. The method should only execute the withdrawal if the account balance is greater than or equal to the amount \n",
    "  t* o be withdrawn.\r\n",
    "Define the check_balance() method. It should return the current\n",
    "   * account balance.\r\n",
    "Create an instance of the Account class, and assign it to a variable ca\n",
    "  l* led \"my_account\".\r\n",
    "Use the methods of the class to deposit and withdraw money from the account, and check t\n",
    "  h* e account balance.\r\n",
    "Test the program by creating multiple instances of the class and performing different transactions on them.\r\n",
    "\r\n"
   ]
  },
  {
   "cell_type": "code",
   "execution_count": 26,
   "id": "019251b9-e793-439a-a82a-413349b171e9",
   "metadata": {},
   "outputs": [],
   "source": [
    "# Define the Account class and its attributes\n",
    "class Account:\n",
    "    def __init__ (self, account_number: str, account_balance: float, account_holder: str):\n",
    "        self.account_number = account_number\n",
    "        self.account_balance = account_balance\n",
    "        self.account_holder = account_holder\n",
    "\n",
    "#Define the deposit() method. It should take in one argument, the amount to be deposited, and add it to the account balance.\n",
    "\n",
    "    def deposit (self, amount: float):\n",
    "        if amount > 0:\n",
    "            self.account_balance += amount\n",
    "            print (f\" Your account {self.account_number} has been credited with {amount} your new balance is: {self.account_balance}\")\n",
    "\n",
    "        else:\n",
    "            print (\"Invalid amount\")\n",
    "        \n",
    "\n",
    "#Define the withdraw() method. It should take in one argument, the amount to be withdrawn, and subtract it from the account balance. The method should only execute the withdrawal if the account balance is greater than or equal to the amount to be withdrawn.\n",
    "\n",
    "    def withdraw (self, amount: float):\n",
    "        if amount <=0:\n",
    "            print (\"Invalid amount\")\n",
    "        \n",
    "        elif amount > self.account_balance:\n",
    "            print (\"Insufficient fund\")\n",
    "            \n",
    "            \n",
    "        else:\n",
    "            self.account_balance -= amount\n",
    "            print (f\" Your account: {self.account_number} has been debited with: {amount}, your new balance is: {self.account_balance}\")\n",
    "\n",
    "#Define the check_balance() method. It should return the current account balance.\n",
    "\n",
    "    def check_balance (self):\n",
    "        print (f\"your account balance is: {self.account_balance}\")\n",
    "\n",
    "            "
   ]
  },
  {
   "cell_type": "code",
   "execution_count": 34,
   "id": "fa99aebc-4f77-409e-8310-f559dd22c6c0",
   "metadata": {},
   "outputs": [
    {
     "data": {
      "text/plain": [
       "<__main__.Account at 0x1456349a9c0>"
      ]
     },
     "execution_count": 34,
     "metadata": {},
     "output_type": "execute_result"
    }
   ],
   "source": [
    "#Create an instance of the Account class, and assign it to a variable called \"my_account\".\n",
    "my_account = Account(\"2176300545\", 105000.0, \"Uchechukwu Emmanuel Nwonye\")\n",
    "my_account"
   ]
  },
  {
   "cell_type": "code",
   "execution_count": 35,
   "id": "908ff2ff-0c00-413a-8c0f-e7daf303a56d",
   "metadata": {},
   "outputs": [
    {
     "name": "stdout",
     "output_type": "stream",
     "text": [
      " Your account 2176300545 has been credited with 70000.0 your new balance is: 175000.0\n"
     ]
    }
   ],
   "source": [
    "#Use the methods of the class to deposit and withdraw money from the account, and check the account balance.\n",
    "\n",
    "# Deposit money into the account\n",
    "my_account.deposit(70000.0)"
   ]
  },
  {
   "cell_type": "code",
   "execution_count": 36,
   "id": "bc5d6a30-a2d7-483a-97af-fc71596dfe16",
   "metadata": {},
   "outputs": [
    {
     "name": "stdout",
     "output_type": "stream",
     "text": [
      " Your account: 2176300545 has been debited with: 50000.0, your new balance is: 125000.0\n"
     ]
    }
   ],
   "source": [
    "# Withdraw money from the account\n",
    "my_account.withdraw(50000.0)"
   ]
  },
  {
   "cell_type": "code",
   "execution_count": 37,
   "id": "ce511eb7-6d6e-4c93-b9c7-d65c61e0dba2",
   "metadata": {},
   "outputs": [
    {
     "name": "stdout",
     "output_type": "stream",
     "text": [
      "Insufficient fund\n"
     ]
    }
   ],
   "source": [
    "# Withdraw amount above the current balance\n",
    "my_account.withdraw(200000.0)"
   ]
  },
  {
   "cell_type": "code",
   "execution_count": 38,
   "id": "3f4c2ed1-13f3-418c-804c-75030073f315",
   "metadata": {},
   "outputs": [
    {
     "name": "stdout",
     "output_type": "stream",
     "text": [
      "Invalid amount\n"
     ]
    }
   ],
   "source": [
    "# Withdraw amount less than zero\n",
    "my_account.withdraw(0)"
   ]
  },
  {
   "cell_type": "code",
   "execution_count": 39,
   "id": "2eee2085-107a-4cfb-a1d9-8cd1bb61d55d",
   "metadata": {},
   "outputs": [
    {
     "name": "stdout",
     "output_type": "stream",
     "text": [
      "your account balance is: 125000.0\n"
     ]
    }
   ],
   "source": [
    "# Check balance\n",
    "my_account.check_balance()"
   ]
  },
  {
   "cell_type": "code",
   "execution_count": 47,
   "id": "9233b0ea-1d05-45e6-bfd4-adc6804a7a37",
   "metadata": {},
   "outputs": [],
   "source": [
    "# Test the program by creating multiple instances of the class and performing different transactions on them.\n",
    "account1 = Account (\"0023120912\", 90000.0, \"Mr Temitope\")\n",
    "account2 = Account (\"2003189249\", 50000.0, \"Cohort7\")"
   ]
  },
  {
   "cell_type": "code",
   "execution_count": 43,
   "id": "2ec5780a-fb43-40e3-ae4c-c067c714ab5f",
   "metadata": {},
   "outputs": [
    {
     "name": "stdout",
     "output_type": "stream",
     "text": [
      " Your account 0023120912 has been credited with 12000.0 your new balance is: 102000.0\n"
     ]
    }
   ],
   "source": [
    "account1.deposit(12000.0)"
   ]
  },
  {
   "cell_type": "code",
   "execution_count": 44,
   "id": "ecbb2d5e-840c-4ba7-906b-785be9f919bf",
   "metadata": {},
   "outputs": [
    {
     "name": "stdout",
     "output_type": "stream",
     "text": [
      "Insufficient fund\n"
     ]
    }
   ],
   "source": [
    "account1.withdraw(105000.0)"
   ]
  },
  {
   "cell_type": "code",
   "execution_count": 46,
   "id": "227de3d9-416f-4430-bee8-d26383604ad2",
   "metadata": {},
   "outputs": [
    {
     "name": "stdout",
     "output_type": "stream",
     "text": [
      "your account balance is: 102000.0\n"
     ]
    }
   ],
   "source": [
    "account1.check_balance()"
   ]
  },
  {
   "cell_type": "code",
   "execution_count": 48,
   "id": "8377fc12-0d58-4a4b-8e8c-ffba99b87f39",
   "metadata": {},
   "outputs": [
    {
     "name": "stdout",
     "output_type": "stream",
     "text": [
      " Your account: 2003189249 has been debited with: 20000.0, your new balance is: 30000.0\n"
     ]
    }
   ],
   "source": [
    "account2.withdraw(20000.0)"
   ]
  },
  {
   "cell_type": "code",
   "execution_count": 49,
   "id": "b34dec85-bbd1-49fd-b8d1-b1c16a46bb73",
   "metadata": {},
   "outputs": [
    {
     "name": "stdout",
     "output_type": "stream",
     "text": [
      " Your account 2003189249 has been credited with 50000.0 your new balance is: 80000.0\n"
     ]
    }
   ],
   "source": [
    "account2.deposit(50000.0)"
   ]
  },
  {
   "cell_type": "code",
   "execution_count": 50,
   "id": "17e37c69-27e5-4c5c-8e41-4461f2e154fc",
   "metadata": {},
   "outputs": [
    {
     "name": "stdout",
     "output_type": "stream",
     "text": [
      "your account balance is: 80000.0\n"
     ]
    }
   ],
   "source": [
    "account2.check_balance()"
   ]
  },
  {
   "cell_type": "code",
   "execution_count": null,
   "id": "413d2dc2-bef2-425c-8e6a-2ffe0bfcc0d3",
   "metadata": {},
   "outputs": [],
   "source": []
  }
 ],
 "metadata": {
  "kernelspec": {
   "display_name": "Python 3 (ipykernel)",
   "language": "python",
   "name": "python3"
  },
  "language_info": {
   "codemirror_mode": {
    "name": "ipython",
    "version": 3
   },
   "file_extension": ".py",
   "mimetype": "text/x-python",
   "name": "python",
   "nbconvert_exporter": "python",
   "pygments_lexer": "ipython3",
   "version": "3.12.4"
  }
 },
 "nbformat": 4,
 "nbformat_minor": 5
}
