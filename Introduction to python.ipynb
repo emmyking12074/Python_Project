{
 "cells": [
  {
   "cell_type": "markdown",
   "id": "e2397d3a-f289-45c3-b2ca-3bdb47064d19",
   "metadata": {},
   "source": [
    "# Introduction\n",
    "This is our class note, and we will be learning Data Science with Python!!!!"
   ]
  },
  {
   "cell_type": "code",
   "execution_count": 8,
   "id": "d22a6521-cd08-45bc-a8d9-f415af27865c",
   "metadata": {},
   "outputs": [
    {
     "name": "stdout",
     "output_type": "stream",
     "text": [
      "Hello World\n"
     ]
    }
   ],
   "source": [
    "print('Hello World')"
   ]
  },
  {
   "cell_type": "code",
   "execution_count": 3,
   "id": "c25a8c82-9007-454e-9d7f-4b01511240bc",
   "metadata": {},
   "outputs": [],
   "source": [
    "# This is a comment and python will ignore this line \n",
    "# this is also called a single line comment "
   ]
  },
  {
   "cell_type": "code",
   "execution_count": 7,
   "id": "96c02af1-6f12-4486-af88-06ef978d7f7c",
   "metadata": {},
   "outputs": [
    {
     "data": {
      "text/plain": [
       "' This is a multi-line comment \\n   this type of comment allows us to write on multiple lines.\\n'"
      ]
     },
     "execution_count": 7,
     "metadata": {},
     "output_type": "execute_result"
    }
   ],
   "source": [
    "\"\"\" This is a multi-line comment \n",
    "   this type of comment allows us to write on multiple lines.\n",
    "\"\"\""
   ]
  },
  {
   "cell_type": "code",
   "execution_count": 12,
   "id": "53ee8345-c7c7-487c-ba47-bd77e4e04f58",
   "metadata": {},
   "outputs": [],
   "source": [
    "# Varibles: They are storage or container in Python.\n",
    "score = 10"
   ]
  },
  {
   "cell_type": "code",
   "execution_count": 13,
   "id": "22d6ab7d-353b-48a1-80ed-2f8232126782",
   "metadata": {},
   "outputs": [
    {
     "data": {
      "text/plain": [
       "10"
      ]
     },
     "execution_count": 13,
     "metadata": {},
     "output_type": "execute_result"
    }
   ],
   "source": [
    "score"
   ]
  },
  {
   "cell_type": "code",
   "execution_count": 14,
   "id": "ff70bb39-e4c7-4b48-8a7c-5a4a92098404",
   "metadata": {},
   "outputs": [
    {
     "data": {
      "text/plain": [
       "100"
      ]
     },
     "execution_count": 14,
     "metadata": {},
     "output_type": "execute_result"
    }
   ],
   "source": [
    "score * score"
   ]
  },
  {
   "cell_type": "markdown",
   "id": "b928e879-e422-4de7-8b12-26654e1576e4",
   "metadata": {},
   "source": [
    "### Data types in Python\n",
    "- String\n",
    "- int - Integers\n",
    "- Float - Decimal\n",
    "- Boolean - True/False"
   ]
  },
  {
   "cell_type": "code",
   "execution_count": 15,
   "id": "02c3a027-a442-4073-8064-4d7cdbcb54b7",
   "metadata": {},
   "outputs": [],
   "source": [
    "age = 25\n",
    "height = 5.11\n",
    "name = \"Alice\"\n",
    "is_student = True"
   ]
  },
  {
   "cell_type": "code",
   "execution_count": 17,
   "id": "561c19bb-45a6-4bf1-8914-1bad8ac72ebc",
   "metadata": {},
   "outputs": [
    {
     "data": {
      "text/plain": [
       "int"
      ]
     },
     "execution_count": 17,
     "metadata": {},
     "output_type": "execute_result"
    }
   ],
   "source": [
    "type(age) # type tells us the data type "
   ]
  },
  {
   "cell_type": "code",
   "execution_count": 18,
   "id": "fb0b053d-0c1c-4d35-b7c8-293c54394ab5",
   "metadata": {},
   "outputs": [
    {
     "name": "stdout",
     "output_type": "stream",
     "text": [
      "<class 'int'>\n",
      "<class 'float'>\n",
      "<class 'str'>\n",
      "<class 'bool'>\n"
     ]
    }
   ],
   "source": [
    "print(type(age))\n",
    "print(type(height))\n",
    "print(type(name))\n",
    "print(type(is_student))"
   ]
  },
  {
   "cell_type": "markdown",
   "id": "be033327-d543-42a0-8aba-7120ac6b6fe9",
   "metadata": {},
   "source": [
    "### Operators and Expression\n",
    "Operators and special symbols that carry out arithmetic \n",
    "or logical computation\n"
   ]
  },
  {
   "cell_type": "code",
   "execution_count": 19,
   "id": "179dac9f-4db4-4fcf-8fab-c14b2d42fd74",
   "metadata": {},
   "outputs": [
    {
     "data": {
      "text/plain": [
       "6"
      ]
     },
     "execution_count": 19,
     "metadata": {},
     "output_type": "execute_result"
    }
   ],
   "source": [
    "# adding two operends \n",
    "2 + 4"
   ]
  },
  {
   "cell_type": "code",
   "execution_count": 20,
   "id": "91fd0044-b1d9-410c-999f-bf6ee7aa108f",
   "metadata": {},
   "outputs": [
    {
     "data": {
      "text/plain": [
       "2"
      ]
     },
     "execution_count": 20,
     "metadata": {},
     "output_type": "execute_result"
    }
   ],
   "source": [
    "# subtrarion \n",
    "6 - 4"
   ]
  },
  {
   "cell_type": "code",
   "execution_count": 21,
   "id": "9f2604f1-4d6f-4c82-be71-1543d13e8b97",
   "metadata": {},
   "outputs": [
    {
     "data": {
      "text/plain": [
       "8"
      ]
     },
     "execution_count": 21,
     "metadata": {},
     "output_type": "execute_result"
    }
   ],
   "source": [
    "# multiplication of two operands \n",
    "2 * 4"
   ]
  },
  {
   "cell_type": "code",
   "execution_count": 22,
   "id": "8418e652-4587-46b3-8530-edb8f31de0b9",
   "metadata": {},
   "outputs": [
    {
     "data": {
      "text/plain": [
       "2.0"
      ]
     },
     "execution_count": 22,
     "metadata": {},
     "output_type": "execute_result"
    }
   ],
   "source": [
    "# divides left operands by right operands \n",
    "# when you divide a whole number by another whole number the result is a floating value \n",
    "8 / 4"
   ]
  },
  {
   "cell_type": "code",
   "execution_count": 23,
   "id": "9e6062a2-0b17-46fe-9bc5-52b7fe146751",
   "metadata": {},
   "outputs": [
    {
     "data": {
      "text/plain": [
       "2"
      ]
     },
     "execution_count": 23,
     "metadata": {},
     "output_type": "execute_result"
    }
   ],
   "source": [
    "# Modulus: returns the remainder when you divide the left operand by the right operand \n",
    "8 % 3"
   ]
  },
  {
   "cell_type": "code",
   "execution_count": 29,
   "id": "a92e12f6-958e-441e-8132-a50226924a6e",
   "metadata": {},
   "outputs": [
    {
     "data": {
      "text/plain": [
       "1"
      ]
     },
     "execution_count": 29,
     "metadata": {},
     "output_type": "execute_result"
    }
   ],
   "source": [
    "10 % 3"
   ]
  },
  {
   "cell_type": "code",
   "execution_count": 24,
   "id": "01762525-276a-4215-a669-779f3f66b6cf",
   "metadata": {},
   "outputs": [
    {
     "data": {
      "text/plain": [
       "8"
      ]
     },
     "execution_count": 24,
     "metadata": {},
     "output_type": "execute_result"
    }
   ],
   "source": [
    "# Exponent - left hand operand raise to the power of the right hand operand \n",
    "2 ** 3"
   ]
  },
  {
   "cell_type": "code",
   "execution_count": 25,
   "id": "622e459c-47a9-43b0-962c-792813a5f1f7",
   "metadata": {},
   "outputs": [
    {
     "data": {
      "text/plain": [
       "8"
      ]
     },
     "execution_count": 25,
     "metadata": {},
     "output_type": "execute_result"
    }
   ],
   "source": [
    "pow(2, 3)"
   ]
  },
  {
   "cell_type": "code",
   "execution_count": 27,
   "id": "7555e9a3-ecab-4014-8032-16a3b72efb4a",
   "metadata": {},
   "outputs": [
    {
     "data": {
      "text/plain": [
       "4"
      ]
     },
     "execution_count": 27,
     "metadata": {},
     "output_type": "execute_result"
    }
   ],
   "source": [
    "# floor division- Division that results in the whole number adjusted to the number line\n",
    "9//2"
   ]
  },
  {
   "cell_type": "code",
   "execution_count": 28,
   "id": "d9463dc8-ce63-4d51-a5fc-be19219e0ec0",
   "metadata": {},
   "outputs": [
    {
     "data": {
      "text/plain": [
       "3"
      ]
     },
     "execution_count": 28,
     "metadata": {},
     "output_type": "execute_result"
    }
   ],
   "source": [
    "10 // 3"
   ]
  },
  {
   "cell_type": "code",
   "execution_count": 30,
   "id": "60628e61-b764-47ef-a9b4-417c29ab8018",
   "metadata": {},
   "outputs": [],
   "source": [
    "import math"
   ]
  },
  {
   "cell_type": "code",
   "execution_count": 31,
   "id": "1f66aaa8-0c8e-43b6-9f99-35df12aed045",
   "metadata": {},
   "outputs": [
    {
     "data": {
      "text/plain": [
       "4"
      ]
     },
     "execution_count": 31,
     "metadata": {},
     "output_type": "execute_result"
    }
   ],
   "source": [
    "math.floor(9//2)"
   ]
  },
  {
   "cell_type": "code",
   "execution_count": 33,
   "id": "b0da7d03-7e6e-4d6b-a9b4-fdef6bc65ebb",
   "metadata": {},
   "outputs": [],
   "source": [
    "## Assignment operator: is used to store whatever is on the left-hand side into the right-hand \n",
    "a = 10\n",
    "b = 40"
   ]
  },
  {
   "cell_type": "code",
   "execution_count": 34,
   "id": "7ffb2de9-b7ae-4794-9476-a0526b2e3549",
   "metadata": {},
   "outputs": [
    {
     "data": {
      "text/plain": [
       "10"
      ]
     },
     "execution_count": 34,
     "metadata": {},
     "output_type": "execute_result"
    }
   ],
   "source": [
    "a"
   ]
  },
  {
   "cell_type": "code",
   "execution_count": 35,
   "id": "f82d90df-d6ad-42c3-8a54-8478e6dbffc3",
   "metadata": {},
   "outputs": [
    {
     "data": {
      "text/plain": [
       "40"
      ]
     },
     "execution_count": 35,
     "metadata": {},
     "output_type": "execute_result"
    }
   ],
   "source": [
    "b"
   ]
  },
  {
   "cell_type": "code",
   "execution_count": 36,
   "id": "3e809984-69b4-442b-abf3-f66001cc2bb9",
   "metadata": {},
   "outputs": [],
   "source": [
    "a = a + b"
   ]
  },
  {
   "cell_type": "code",
   "execution_count": 37,
   "id": "8334621c-5651-4c1f-ab50-1b9befffd97b",
   "metadata": {},
   "outputs": [
    {
     "data": {
      "text/plain": [
       "50"
      ]
     },
     "execution_count": 37,
     "metadata": {},
     "output_type": "execute_result"
    }
   ],
   "source": [
    "a"
   ]
  },
  {
   "cell_type": "markdown",
   "id": "eb864ecf-d343-4fc8-a8df-59d4d3537079",
   "metadata": {},
   "source": [
    "### Comparison operators "
   ]
  },
  {
   "cell_type": "code",
   "execution_count": 38,
   "id": "ea3f9f79-8542-43dc-a9a1-dcbfedb471a9",
   "metadata": {},
   "outputs": [],
   "source": [
    "# The double equal sign checks if both operands are equal \n",
    "name = \"Toke\"\n",
    "person = \"Bob\""
   ]
  },
  {
   "cell_type": "code",
   "execution_count": 39,
   "id": "f4867209-c10f-4752-93e4-a31ffaf8d03f",
   "metadata": {},
   "outputs": [
    {
     "data": {
      "text/plain": [
       "False"
      ]
     },
     "execution_count": 39,
     "metadata": {},
     "output_type": "execute_result"
    }
   ],
   "source": [
    "name == person"
   ]
  },
  {
   "cell_type": "code",
   "execution_count": 40,
   "id": "f0a9899f-881d-4a82-9a83-cae62758504b",
   "metadata": {},
   "outputs": [
    {
     "data": {
      "text/plain": [
       "True"
      ]
     },
     "execution_count": 40,
     "metadata": {},
     "output_type": "execute_result"
    }
   ],
   "source": [
    "# Not equal to - True if operands are not equal\n",
    "name != person"
   ]
  },
  {
   "cell_type": "code",
   "execution_count": 41,
   "id": "9da65f5a-60de-45c6-b304-cfcaccb307e0",
   "metadata": {},
   "outputs": [],
   "source": [
    "# the greater than sign\n",
    "a = 10\n",
    "b = 40"
   ]
  },
  {
   "cell_type": "code",
   "execution_count": 42,
   "id": "4369d232-81ef-4607-86ca-22b95389999f",
   "metadata": {},
   "outputs": [
    {
     "data": {
      "text/plain": [
       "False"
      ]
     },
     "execution_count": 42,
     "metadata": {},
     "output_type": "execute_result"
    }
   ],
   "source": [
    "a > b"
   ]
  },
  {
   "cell_type": "code",
   "execution_count": 43,
   "id": "7248cf15-b4d5-4da2-ab18-ef00aab09db5",
   "metadata": {},
   "outputs": [
    {
     "data": {
      "text/plain": [
       "True"
      ]
     },
     "execution_count": 43,
     "metadata": {},
     "output_type": "execute_result"
    }
   ],
   "source": [
    "a < b"
   ]
  },
  {
   "cell_type": "code",
   "execution_count": 44,
   "id": "75c180f1-7f22-42d9-a830-cf98037c94fa",
   "metadata": {},
   "outputs": [
    {
     "data": {
      "text/plain": [
       "False"
      ]
     },
     "execution_count": 44,
     "metadata": {},
     "output_type": "execute_result"
    }
   ],
   "source": [
    "a >= b"
   ]
  },
  {
   "cell_type": "code",
   "execution_count": 45,
   "id": "44b7695a-0810-419a-9a7d-d5ed8606e602",
   "metadata": {},
   "outputs": [
    {
     "data": {
      "text/plain": [
       "True"
      ]
     },
     "execution_count": 45,
     "metadata": {},
     "output_type": "execute_result"
    }
   ],
   "source": [
    "a <= b"
   ]
  },
  {
   "cell_type": "code",
   "execution_count": 46,
   "id": "42418952-4570-4e8d-b95e-f384551f6fa6",
   "metadata": {},
   "outputs": [
    {
     "data": {
      "text/plain": [
       "10"
      ]
     },
     "execution_count": 46,
     "metadata": {},
     "output_type": "execute_result"
    }
   ],
   "source": [
    "a"
   ]
  },
  {
   "cell_type": "markdown",
   "id": "b044c2b0-6b23-42f3-9de4-1c420b71138f",
   "metadata": {},
   "source": [
    "### CONTROL FLOW\n",
    "Conditional statements(if, elif, else), looping with for and while loops, break and continue statement are common \n",
    "syntax of controlling the flow of program logic in python. your code execute from top to bottom. it is your job to control\n",
    "the flow of your code"
   ]
  },
  {
   "cell_type": "code",
   "execution_count": 63,
   "id": "2337c768-0d90-4949-806d-4c8bb7df4059",
   "metadata": {},
   "outputs": [],
   "source": [
    "age = 100\n",
    "\n",
    "# if age >= 15:\n",
    "#     print(\"You are an Adult, prepare for marriage\")\n",
    "\n",
    "# else:\n",
    "#     print(\"you are a minor, focus on your studies\")"
   ]
  },
  {
   "cell_type": "code",
   "execution_count": 64,
   "id": "8c752cb1-8f67-4819-84d2-5cc13f0a3a9b",
   "metadata": {},
   "outputs": [
    {
     "name": "stdout",
     "output_type": "stream",
     "text": [
      "what is your age?\n"
     ]
    }
   ],
   "source": [
    "# using multiple ifs\n",
    "if age <= 10:\n",
    "    print(\"you are too Young!\")\n",
    "\n",
    "elif age >= 13 and age <= 18:\n",
    "    print(\"You are a teenager\")\n",
    "\n",
    "elif age >= 18 and age <=90:\n",
    "    print (\"You are old enough\")\n",
    "\n",
    "else:\n",
    "    print(\"what is your age?\")"
   ]
  },
  {
   "cell_type": "code",
   "execution_count": 66,
   "id": "dd30f480-fb24-4a67-97e0-5374f3e1536f",
   "metadata": {},
   "outputs": [
    {
     "name": "stdin",
     "output_type": "stream",
     "text": [
      "what is your name?:  18.5\n"
     ]
    }
   ],
   "source": [
    "# Using the input statement to get response from the user \n",
    "age = float(input(\"what is your name?: \"))"
   ]
  },
  {
   "cell_type": "code",
   "execution_count": null,
   "id": "4f7b2bfa-ed4f-42ea-9de8-19abbf004692",
   "metadata": {},
   "outputs": [],
   "source": [
    "# using multiple ifs\n",
    "if age <= 10:\n",
    "    print(\"you are too Young!\")\n",
    "\n",
    "elif age >= 13 and age <= 18:\n",
    "    print(\"You are a teenager\")\n",
    "\n",
    "elif age >= 18 and age <=90:\n",
    "    print (\"You are old enough\")\n",
    "\n",
    "else:\n",
    "    print(\"what is your age?\")"
   ]
  },
  {
   "cell_type": "markdown",
   "id": "5745a770-4de1-4c97-aa93-e66ec323b205",
   "metadata": {},
   "source": [
    "### PYTHON BUILT-IN FUNCTIONS \n",
    "Python built-in function are are functions built into python as core programme methods/functions "
   ]
  },
  {
   "cell_type": "code",
   "execution_count": 69,
   "id": "ba7bd2ec-a701-4646-b437-5efa953b604d",
   "metadata": {},
   "outputs": [
    {
     "name": "stdout",
     "output_type": "stream",
     "text": [
      "Tpepper lost her phone yesterday\n"
     ]
    }
   ],
   "source": [
    "# The Print statement: this is how python returns output \n",
    "print(\"Tpepper lost her phone yesterday\")"
   ]
  },
  {
   "cell_type": "code",
   "execution_count": 70,
   "id": "ee0ad3aa-42f2-42b9-8d3d-0eb7fa1e2454",
   "metadata": {},
   "outputs": [],
   "source": [
    "# int: This function returns the integer version and value passed\n",
    "value = \"20\""
   ]
  },
  {
   "cell_type": "code",
   "execution_count": 71,
   "id": "a5cf052b-c582-4947-8754-5a4225f66aad",
   "metadata": {},
   "outputs": [],
   "source": [
    "value = int(value)"
   ]
  },
  {
   "cell_type": "code",
   "execution_count": 72,
   "id": "a5f526e9-237b-4213-b0ca-4b91d8c686b1",
   "metadata": {},
   "outputs": [
    {
     "data": {
      "text/plain": [
       "20"
      ]
     },
     "execution_count": 72,
     "metadata": {},
     "output_type": "execute_result"
    }
   ],
   "source": [
    "value"
   ]
  },
  {
   "cell_type": "code",
   "execution_count": 73,
   "id": "2579dffd-3aff-4a69-a421-6ad15de96c0f",
   "metadata": {},
   "outputs": [],
   "source": [
    "# Float: This function returns the floating version of any value passed\n",
    "number = \"30.5\""
   ]
  },
  {
   "cell_type": "code",
   "execution_count": 74,
   "id": "389267e0-4224-40c4-9e4f-5a054bffd43e",
   "metadata": {},
   "outputs": [
    {
     "data": {
      "text/plain": [
       "'30.5'"
      ]
     },
     "execution_count": 74,
     "metadata": {},
     "output_type": "execute_result"
    }
   ],
   "source": [
    "number"
   ]
  },
  {
   "cell_type": "code",
   "execution_count": 75,
   "id": "405dc2ba-1800-4e8c-9cf3-2bc4e11b0226",
   "metadata": {},
   "outputs": [],
   "source": [
    "number = float(number)"
   ]
  },
  {
   "cell_type": "code",
   "execution_count": 76,
   "id": "8cc4e28e-bf21-4eb1-8567-eab8de48626c",
   "metadata": {},
   "outputs": [
    {
     "data": {
      "text/plain": [
       "30.5"
      ]
     },
     "execution_count": 76,
     "metadata": {},
     "output_type": "execute_result"
    }
   ],
   "source": [
    "number"
   ]
  },
  {
   "cell_type": "code",
   "execution_count": 77,
   "id": "f49a57af-cc07-4bc4-8db0-e26436a93c76",
   "metadata": {},
   "outputs": [],
   "source": [
    "# String: This function returns the string version of the passed to it \n",
    "string = 50"
   ]
  },
  {
   "cell_type": "code",
   "execution_count": 78,
   "id": "49f6e081-3357-4005-a86a-f51eae9306c4",
   "metadata": {},
   "outputs": [
    {
     "data": {
      "text/plain": [
       "'50'"
      ]
     },
     "execution_count": 78,
     "metadata": {},
     "output_type": "execute_result"
    }
   ],
   "source": [
    "str(string)"
   ]
  },
  {
   "cell_type": "code",
   "execution_count": 80,
   "id": "604e353b-7eeb-4e15-9228-4b5232e70bdf",
   "metadata": {},
   "outputs": [],
   "source": [
    "string =(\"Mr Pelu\")"
   ]
  },
  {
   "cell_type": "code",
   "execution_count": 81,
   "id": "ee49e396-76e7-4b8d-9e67-fadb534d2caf",
   "metadata": {},
   "outputs": [],
   "source": [
    "string = bool(string)"
   ]
  },
  {
   "cell_type": "code",
   "execution_count": 82,
   "id": "1c19ef6c-3d16-496c-ab3b-36486faebd4f",
   "metadata": {},
   "outputs": [
    {
     "data": {
      "text/plain": [
       "True"
      ]
     },
     "execution_count": 82,
     "metadata": {},
     "output_type": "execute_result"
    }
   ],
   "source": [
    "string"
   ]
  },
  {
   "cell_type": "code",
   "execution_count": 83,
   "id": "1e1de374-9146-455f-b77d-ee9ba441244f",
   "metadata": {},
   "outputs": [],
   "source": [
    "# The abs (absolute) function returns the positive version of the value passed to it \n",
    "value = -100"
   ]
  },
  {
   "cell_type": "code",
   "execution_count": 84,
   "id": "16fccd89-f406-45e9-9f1b-0d5636a006b8",
   "metadata": {},
   "outputs": [
    {
     "data": {
      "text/plain": [
       "100"
      ]
     },
     "execution_count": 84,
     "metadata": {},
     "output_type": "execute_result"
    }
   ],
   "source": [
    "abs(value)"
   ]
  },
  {
   "cell_type": "code",
   "execution_count": 85,
   "id": "e295e588-b444-4331-8a6a-7b533c45be16",
   "metadata": {},
   "outputs": [],
   "source": [
    "# The max function returns the biggest value from a list of value"
   ]
  },
  {
   "cell_type": "code",
   "execution_count": 86,
   "id": "e6933284-1815-43a0-b218-b7a1cfc0051f",
   "metadata": {},
   "outputs": [],
   "source": [
    "numbers = [2, 4, 6, 7, 10, 20]"
   ]
  },
  {
   "cell_type": "code",
   "execution_count": 87,
   "id": "9b0d14ec-ce58-4f22-a51b-a68b1d827c3d",
   "metadata": {},
   "outputs": [
    {
     "data": {
      "text/plain": [
       "20"
      ]
     },
     "execution_count": 87,
     "metadata": {},
     "output_type": "execute_result"
    }
   ],
   "source": [
    "max (numbers)"
   ]
  },
  {
   "cell_type": "code",
   "execution_count": 88,
   "id": "e65137ec-a5f0-4d31-b4c2-e0eb07853aad",
   "metadata": {},
   "outputs": [],
   "source": [
    "# min funtion returns the smallest value from a list of values"
   ]
  },
  {
   "cell_type": "code",
   "execution_count": 89,
   "id": "f7511b49-e6c7-4c9a-9e24-bee8f9af56fe",
   "metadata": {},
   "outputs": [
    {
     "data": {
      "text/plain": [
       "2"
      ]
     },
     "execution_count": 89,
     "metadata": {},
     "output_type": "execute_result"
    }
   ],
   "source": [
    "min(numbers)"
   ]
  },
  {
   "cell_type": "code",
   "execution_count": 91,
   "id": "8e37a657-9675-4575-bd8d-0b78b54e95cb",
   "metadata": {},
   "outputs": [
    {
     "data": {
      "text/plain": [
       "[0, 1, 2, 3, 4, 5, 6, 7, 8, 9]"
      ]
     },
     "execution_count": 91,
     "metadata": {},
     "output_type": "execute_result"
    }
   ],
   "source": [
    "# The range function returns the range of numbers between two integer\n",
    "list (range (10))"
   ]
  },
  {
   "cell_type": "markdown",
   "id": "76720f8f-df6f-43ad-b40c-997e2ad0f413",
   "metadata": {},
   "source": [
    "### FOR LOOPS\n",
    "For Loops is used to iterate throgh a sequence of values "
   ]
  },
  {
   "cell_type": "code",
   "execution_count": 92,
   "id": "d360d499-0423-498b-89bd-f67488c2bed1",
   "metadata": {},
   "outputs": [
    {
     "name": "stdout",
     "output_type": "stream",
     "text": [
      "0\n",
      "1\n",
      "2\n",
      "3\n",
      "4\n"
     ]
    }
   ],
   "source": [
    "for city in range(5):\n",
    "    print(city)"
   ]
  },
  {
   "cell_type": "code",
   "execution_count": 93,
   "id": "4b65deec-0a0d-44ac-b0ee-d3355fb7ff92",
   "metadata": {},
   "outputs": [
    {
     "name": "stdout",
     "output_type": "stream",
     "text": [
      "0\n"
     ]
    }
   ],
   "source": [
    "for city in range(5):\n",
    "    print(city)\n",
    "    break"
   ]
  },
  {
   "cell_type": "code",
   "execution_count": 100,
   "id": "fcb6b47e-5fbd-4227-8cb2-114d68d54d46",
   "metadata": {},
   "outputs": [
    {
     "name": "stdout",
     "output_type": "stream",
     "text": [
      "0\n",
      "1\n",
      "2\n",
      "3\n"
     ]
    }
   ],
   "source": [
    "for city in range(5):\n",
    "    if city > 3:\n",
    "        break\n",
    "\n",
    "    print(city)\n",
    "        "
   ]
  },
  {
   "cell_type": "code",
   "execution_count": 101,
   "id": "1bd29042-8748-4715-baa3-7b4fb53d5a88",
   "metadata": {},
   "outputs": [
    {
     "name": "stdout",
     "output_type": "stream",
     "text": [
      "0\n",
      "1\n",
      "2\n",
      "3\n",
      "4\n",
      "5\n",
      "6\n",
      "7\n",
      "8\n",
      "9\n",
      "10\n"
     ]
    }
   ],
   "source": [
    "for books in range (20):\n",
    "    if books > 10:\n",
    "        break\n",
    "    print(books)"
   ]
  },
  {
   "cell_type": "code",
   "execution_count": 105,
   "id": "c7ad3d6c-2eeb-48d6-b0e9-44e3bc74c471",
   "metadata": {},
   "outputs": [
    {
     "name": "stdout",
     "output_type": "stream",
     "text": [
      "0\n",
      "1\n",
      "2\n",
      "4\n",
      "5\n",
      "6\n",
      "7\n",
      "8\n",
      "9\n",
      "11\n",
      "12\n",
      "13\n",
      "14\n",
      "16\n",
      "17\n",
      "18\n",
      "19\n"
     ]
    }
   ],
   "source": [
    "for books in range (20):\n",
    "    if books in[3, 10, 15]:\n",
    "        continue\n",
    "    print(books)"
   ]
  },
  {
   "cell_type": "markdown",
   "id": "3588e794-fe6e-4d84-9a5d-84ecfb7041c2",
   "metadata": {},
   "source": [
    "### STRINGS\n",
    "String are essential part of python programming construct, they are denoted by single or double quotes.\n",
    "Strings has methods for changing and manipulating them."
   ]
  },
  {
   "cell_type": "code",
   "execution_count": 144,
   "id": "91bb765d-7c80-4d3b-9592-f75d9e95f7fb",
   "metadata": {},
   "outputs": [],
   "source": [
    "name = \"eniola\""
   ]
  },
  {
   "cell_type": "code",
   "execution_count": 108,
   "id": "37ba5e4e-5823-4c5c-8d51-ff10bd3ae529",
   "metadata": {},
   "outputs": [
    {
     "data": {
      "text/plain": [
       "'Eniola'"
      ]
     },
     "execution_count": 108,
     "metadata": {},
     "output_type": "execute_result"
    }
   ],
   "source": [
    "# this method changes the first letter of the word to uppercase \n",
    "name.capitalize()"
   ]
  },
  {
   "cell_type": "code",
   "execution_count": 110,
   "id": "f507caf1-e7ae-4fbb-a138-62a893f90436",
   "metadata": {},
   "outputs": [],
   "source": [
    "names = [\"emmanuel\", \"ruth\", \"eniola\", \"niyi\", \"soji\"]"
   ]
  },
  {
   "cell_type": "code",
   "execution_count": 111,
   "id": "f9b5f757-0144-4509-99d8-24cd222e4402",
   "metadata": {},
   "outputs": [],
   "source": [
    "new_names =[]\n",
    "for i in names:\n",
    "    new_names.append(i.capitalize())"
   ]
  },
  {
   "cell_type": "code",
   "execution_count": 112,
   "id": "de21c4af-1649-4ad8-8f33-b85d048eaa21",
   "metadata": {},
   "outputs": [
    {
     "data": {
      "text/plain": [
       "['Emmanuel', 'Ruth', 'Eniola', 'Niyi', 'Soji']"
      ]
     },
     "execution_count": 112,
     "metadata": {},
     "output_type": "execute_result"
    }
   ],
   "source": [
    "new_names"
   ]
  },
  {
   "cell_type": "code",
   "execution_count": 113,
   "id": "57180c84-dca5-4bfd-a657-4cc49a465975",
   "metadata": {},
   "outputs": [
    {
     "data": {
      "text/plain": [
       "'ENIOLA'"
      ]
     },
     "execution_count": 113,
     "metadata": {},
     "output_type": "execute_result"
    }
   ],
   "source": [
    "# this method changes all the letters in the word to uppercase \n",
    "name.upper()"
   ]
  },
  {
   "cell_type": "code",
   "execution_count": 114,
   "id": "67fcf6d7-1b68-4f5d-97b6-7dbae0c1096a",
   "metadata": {},
   "outputs": [
    {
     "data": {
      "text/plain": [
       "'Eniola'"
      ]
     },
     "execution_count": 114,
     "metadata": {},
     "output_type": "execute_result"
    }
   ],
   "source": [
    "# this method changes the first letter of the word to uppercase \n",
    "name.title()"
   ]
  },
  {
   "cell_type": "code",
   "execution_count": 115,
   "id": "5b4e28b5-a68d-4556-84fc-bbff9a35f589",
   "metadata": {},
   "outputs": [],
   "source": [
    "new_names =[]\n",
    "for i in names:\n",
    "    new_names.append(i.upper())"
   ]
  },
  {
   "cell_type": "code",
   "execution_count": 116,
   "id": "fc26acc5-44dd-437b-afb5-69f493ad99e5",
   "metadata": {},
   "outputs": [
    {
     "data": {
      "text/plain": [
       "['EMMANUEL', 'RUTH', 'ENIOLA', 'NIYI', 'SOJI']"
      ]
     },
     "execution_count": 116,
     "metadata": {},
     "output_type": "execute_result"
    }
   ],
   "source": [
    "new_names"
   ]
  },
  {
   "cell_type": "code",
   "execution_count": 117,
   "id": "8fe360b6-4322-4f04-b838-6577fc780c9c",
   "metadata": {},
   "outputs": [
    {
     "data": {
      "text/plain": [
       "'eniola'"
      ]
     },
     "execution_count": 117,
     "metadata": {},
     "output_type": "execute_result"
    }
   ],
   "source": [
    "# this method changes the all the letters of the word to lowercase \n",
    "name.lower()"
   ]
  },
  {
   "cell_type": "code",
   "execution_count": 118,
   "id": "ec3f4ac4-b8a1-4474-bb20-4be94121e3cb",
   "metadata": {},
   "outputs": [
    {
     "data": {
      "text/plain": [
       "'we are learning python together'"
      ]
     },
     "execution_count": 118,
     "metadata": {},
     "output_type": "execute_result"
    }
   ],
   "source": [
    "\"WE ARE LEARNING PYTHON TOGETHER\".lower()"
   ]
  },
  {
   "cell_type": "code",
   "execution_count": 119,
   "id": "8dd2f6c0-c70f-48fa-a50c-283125444fbf",
   "metadata": {},
   "outputs": [
    {
     "data": {
      "text/plain": [
       "'We Are Learning Python Together'"
      ]
     },
     "execution_count": 119,
     "metadata": {},
     "output_type": "execute_result"
    }
   ],
   "source": [
    "\"WE ARE LEARNING PYTHON TOGETHER\".title()"
   ]
  },
  {
   "cell_type": "code",
   "execution_count": 121,
   "id": "d2b98b3b-80d1-447a-9c64-b96cb83b819c",
   "metadata": {},
   "outputs": [
    {
     "data": {
      "text/plain": [
       "'We are learning python together'"
      ]
     },
     "execution_count": 121,
     "metadata": {},
     "output_type": "execute_result"
    }
   ],
   "source": [
    "\"WE ARE LEARNING PYTHON TOGETHER\".capitalize()"
   ]
  },
  {
   "cell_type": "code",
   "execution_count": 122,
   "id": "078ad995-4ab6-409a-a7f2-5e74e8d78c05",
   "metadata": {},
   "outputs": [],
   "source": [
    "name =\"    eniola   \""
   ]
  },
  {
   "cell_type": "code",
   "execution_count": 123,
   "id": "b1687d11-3e1b-4e82-b89f-576c928a5dbe",
   "metadata": {},
   "outputs": [
    {
     "data": {
      "text/plain": [
       "'    eniola   '"
      ]
     },
     "execution_count": 123,
     "metadata": {},
     "output_type": "execute_result"
    }
   ],
   "source": [
    "name"
   ]
  },
  {
   "cell_type": "code",
   "execution_count": 124,
   "id": "5345ea05-d9af-4b67-818c-18c158a61aea",
   "metadata": {},
   "outputs": [
    {
     "data": {
      "text/plain": [
       "13"
      ]
     },
     "execution_count": 124,
     "metadata": {},
     "output_type": "execute_result"
    }
   ],
   "source": [
    "len(name)"
   ]
  },
  {
   "cell_type": "code",
   "execution_count": 125,
   "id": "64049797-e234-4591-a8cb-e66ea882c349",
   "metadata": {},
   "outputs": [
    {
     "data": {
      "text/plain": [
       "'eniola'"
      ]
     },
     "execution_count": 125,
     "metadata": {},
     "output_type": "execute_result"
    }
   ],
   "source": [
    "# This method strips the whitespaces from both sides of a string \n",
    "name.strip()"
   ]
  },
  {
   "cell_type": "code",
   "execution_count": 126,
   "id": "562cde4c-6dba-4763-9426-ad6274efbba2",
   "metadata": {},
   "outputs": [
    {
     "data": {
      "text/plain": [
       "'eniola   '"
      ]
     },
     "execution_count": 126,
     "metadata": {},
     "output_type": "execute_result"
    }
   ],
   "source": [
    "# This method strips the whitespaces from the left of a string \n",
    "name.lstrip()"
   ]
  },
  {
   "cell_type": "code",
   "execution_count": 128,
   "id": "2314588e-9d04-4715-8f46-71b691c24501",
   "metadata": {},
   "outputs": [
    {
     "data": {
      "text/plain": [
       "'    eniola'"
      ]
     },
     "execution_count": 128,
     "metadata": {},
     "output_type": "execute_result"
    }
   ],
   "source": [
    "# This method strips the whitespaces from the right of a string \n",
    "name.rstrip()"
   ]
  },
  {
   "cell_type": "code",
   "execution_count": 132,
   "id": "e395024b-9b2b-4371-86db-0389a9e7930a",
   "metadata": {},
   "outputs": [
    {
     "data": {
      "text/plain": [
       "'+ + + + +e+n+i+o+l+a+ + + +'"
      ]
     },
     "execution_count": 132,
     "metadata": {},
     "output_type": "execute_result"
    }
   ],
   "source": [
    "name.replace(\"\", \"+\")"
   ]
  },
  {
   "cell_type": "code",
   "execution_count": 136,
   "id": "34d8cdf4-7396-495a-86b3-0eeb22db4b1c",
   "metadata": {},
   "outputs": [
    {
     "data": {
      "text/plain": [
       "['WE', 'ARE', 'LEARNING', 'PYTHON', 'TOGETHER']"
      ]
     },
     "execution_count": 136,
     "metadata": {},
     "output_type": "execute_result"
    }
   ],
   "source": [
    "\"WE ARE LEARNING PYTHON TOGETHER\".split(\" \")"
   ]
  },
  {
   "cell_type": "code",
   "execution_count": 145,
   "id": "c249b063-bed1-4edf-87d9-fce5d74891c6",
   "metadata": {},
   "outputs": [
    {
     "data": {
      "text/plain": [
       "'eniola'"
      ]
     },
     "execution_count": 145,
     "metadata": {},
     "output_type": "execute_result"
    }
   ],
   "source": [
    "# String indexing and slicing \n",
    "name"
   ]
  },
  {
   "cell_type": "code",
   "execution_count": 148,
   "id": "88c34fdf-45b2-4f9f-a8e1-828389bab755",
   "metadata": {},
   "outputs": [
    {
     "data": {
      "text/plain": [
       "'eni'"
      ]
     },
     "execution_count": 148,
     "metadata": {},
     "output_type": "execute_result"
    }
   ],
   "source": [
    "name[0:3]"
   ]
  },
  {
   "cell_type": "markdown",
   "id": "5e647597-0a0b-4d53-a203-6ef0c2b6100b",
   "metadata": {},
   "source": [
    "### LIST\n",
    "The list is a python data structure that can be change or mutuable, it can store any type of data\n",
    "its noted by a square bracket[ ]"
   ]
  },
  {
   "cell_type": "code",
   "execution_count": 137,
   "id": "a87151d6-8af6-453b-b65a-2013112b88ec",
   "metadata": {},
   "outputs": [],
   "source": [
    "shoping_list = [\"mango\", \"rice\", \"tomato\", \"beans\", \"meat\"]\n"
   ]
  },
  {
   "cell_type": "code",
   "execution_count": 138,
   "id": "ebeea6b5-40a7-498c-be48-2fc8b4a29dfc",
   "metadata": {},
   "outputs": [
    {
     "data": {
      "text/plain": [
       "['mango', 'rice', 'tomato', 'beans', 'meat']"
      ]
     },
     "execution_count": 138,
     "metadata": {},
     "output_type": "execute_result"
    }
   ],
   "source": [
    "shoping_list"
   ]
  },
  {
   "cell_type": "code",
   "execution_count": 139,
   "id": "0fa1ff47-9272-4c4f-87cd-8870aaaf0394",
   "metadata": {},
   "outputs": [
    {
     "data": {
      "text/plain": [
       "'mango'"
      ]
     },
     "execution_count": 139,
     "metadata": {},
     "output_type": "execute_result"
    }
   ],
   "source": [
    "shoping_list[0]"
   ]
  },
  {
   "cell_type": "code",
   "execution_count": 140,
   "id": "fd26246a-afbf-467a-9ba5-efda45ee502f",
   "metadata": {},
   "outputs": [
    {
     "data": {
      "text/plain": [
       "'meat'"
      ]
     },
     "execution_count": 140,
     "metadata": {},
     "output_type": "execute_result"
    }
   ],
   "source": [
    "shoping_list[-1]"
   ]
  },
  {
   "cell_type": "code",
   "execution_count": 141,
   "id": "d3124fca-3dbe-4646-876f-0e3e62da9496",
   "metadata": {},
   "outputs": [
    {
     "data": {
      "text/plain": [
       "'meat'"
      ]
     },
     "execution_count": 141,
     "metadata": {},
     "output_type": "execute_result"
    }
   ],
   "source": [
    "shoping_list[4]"
   ]
  },
  {
   "cell_type": "code",
   "execution_count": 142,
   "id": "085257a6-5225-4279-a7d0-dec6cfc9e40d",
   "metadata": {},
   "outputs": [
    {
     "data": {
      "text/plain": [
       "'beans'"
      ]
     },
     "execution_count": 142,
     "metadata": {},
     "output_type": "execute_result"
    }
   ],
   "source": [
    "shoping_list[3]"
   ]
  },
  {
   "cell_type": "code",
   "execution_count": 149,
   "id": "0b04c29d-82c2-4048-8d90-20f87dc1f7c1",
   "metadata": {},
   "outputs": [
    {
     "data": {
      "text/plain": [
       "['mango', 'rice', 'tomato', 'beans']"
      ]
     },
     "execution_count": 149,
     "metadata": {},
     "output_type": "execute_result"
    }
   ],
   "source": [
    "shoping_list[0:4] # the last number in the slice is always excluded"
   ]
  },
  {
   "cell_type": "code",
   "execution_count": 154,
   "id": "fcd382d2-1f48-4d5f-b2ab-4b792ff18550",
   "metadata": {},
   "outputs": [
    {
     "data": {
      "text/plain": [
       "['rice', 'tomato', 'beans']"
      ]
     },
     "execution_count": 154,
     "metadata": {},
     "output_type": "execute_result"
    }
   ],
   "source": [
    "shoping_list[-4:-1]"
   ]
  },
  {
   "cell_type": "code",
   "execution_count": 155,
   "id": "e7abd1a3-9be3-4bea-a23b-dc296e70a77c",
   "metadata": {},
   "outputs": [
    {
     "data": {
      "text/plain": [
       "['mango', 'rice', 'tomato', 'beans']"
      ]
     },
     "execution_count": 155,
     "metadata": {},
     "output_type": "execute_result"
    }
   ],
   "source": [
    "shoping_list[:4]"
   ]
  },
  {
   "cell_type": "code",
   "execution_count": null,
   "id": "fe729542-89d1-4580-9d6b-8043f81a5348",
   "metadata": {},
   "outputs": [],
   "source": []
  }
 ],
 "metadata": {
  "kernelspec": {
   "display_name": "Python 3 (ipykernel)",
   "language": "python",
   "name": "python3"
  },
  "language_info": {
   "codemirror_mode": {
    "name": "ipython",
    "version": 3
   },
   "file_extension": ".py",
   "mimetype": "text/x-python",
   "name": "python",
   "nbconvert_exporter": "python",
   "pygments_lexer": "ipython3",
   "version": "3.12.4"
  }
 },
 "nbformat": 4,
 "nbformat_minor": 5
}
